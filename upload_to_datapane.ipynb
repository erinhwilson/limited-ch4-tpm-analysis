{
 "cells": [
  {
   "cell_type": "markdown",
   "id": "e34e68f8",
   "metadata": {},
   "source": [
    "# Upload figs to datapane"
   ]
  },
  {
   "cell_type": "code",
   "execution_count": 2,
   "id": "5a51c54b",
   "metadata": {},
   "outputs": [],
   "source": [
    "import altair as alt\n",
    "import datapane as dp \n"
   ]
  },
  {
   "cell_type": "code",
   "execution_count": 3,
   "id": "9c9ea912",
   "metadata": {},
   "outputs": [],
   "source": [
    "def load_to_datapane(filename):\n",
    "    with open(f'alt_out/{filename}.json','r') as f:\n",
    "        js = f.readlines()[0]\n",
    "\n",
    "    chart = alt.Chart.from_json(js)\n",
    "    report = dp.Report(dp.Plot(chart) ) #Create a report\n",
    "    report.upload(name=f'{filename}', open=True, visibility='PUBLIC') #Publish the report\n"
   ]
  },
  {
   "cell_type": "code",
   "execution_count": 4,
   "id": "59404d05",
   "metadata": {},
   "outputs": [
    {
     "data": {
      "text/markdown": [
       "Uploading app and associated data - *please wait...*"
      ],
      "text/plain": [
       "<IPython.core.display.Markdown object>"
      ]
     },
     "metadata": {},
     "output_type": "display_data"
    },
    {
     "name": "stdout",
     "output_type": "stream",
     "text": [
      "Uploading files\n"
     ]
    },
    {
     "data": {
      "text/markdown": [
       "App successfully uploaded. View and share your app at <a href='https://cloud.datapane.com/apps/dkjvK9k/interactive-volcano-3windows/' target='_blank'>here</a>."
      ],
      "text/plain": [
       "<IPython.core.display.Markdown object>"
      ]
     },
     "metadata": {},
     "output_type": "display_data"
    }
   ],
   "source": [
    "filename = 'interactive_volcano_3windows'\n",
    "load_to_datapane(filename)"
   ]
  },
  {
   "cell_type": "code",
   "execution_count": 5,
   "id": "c58a4195",
   "metadata": {},
   "outputs": [
    {
     "data": {
      "text/markdown": [
       "Uploading app and associated data - *please wait...*"
      ],
      "text/plain": [
       "<IPython.core.display.Markdown object>"
      ]
     },
     "metadata": {},
     "output_type": "display_data"
    },
    {
     "name": "stdout",
     "output_type": "stream",
     "text": [
      "Uploading files\n"
     ]
    },
    {
     "data": {
      "text/markdown": [
       "App successfully uploaded. View and share your app at <a href='https://cloud.datapane.com/apps/O7vrq17/full-panel-colorby-group/' target='_blank'>here</a>."
      ],
      "text/plain": [
       "<IPython.core.display.Markdown object>"
      ]
     },
     "metadata": {},
     "output_type": "display_data"
    }
   ],
   "source": [
    "filename = 'full_panel_colorby_group'\n",
    "load_to_datapane(filename)"
   ]
  },
  {
   "cell_type": "code",
   "execution_count": 6,
   "id": "41ee6800",
   "metadata": {},
   "outputs": [
    {
     "data": {
      "text/markdown": [
       "Uploading app and associated data - *please wait...*"
      ],
      "text/plain": [
       "<IPython.core.display.Markdown object>"
      ]
     },
     "metadata": {},
     "output_type": "display_data"
    },
    {
     "name": "stdout",
     "output_type": "stream",
     "text": [
      "Uploading files\n"
     ]
    },
    {
     "data": {
      "text/markdown": [
       "App successfully uploaded. View and share your app at <a href='https://cloud.datapane.com/apps/W3DnqXk/full-panel-colorby-ch4level/' target='_blank'>here</a>."
      ],
      "text/plain": [
       "<IPython.core.display.Markdown object>"
      ]
     },
     "metadata": {},
     "output_type": "display_data"
    }
   ],
   "source": [
    "filename = 'full_panel_colorby_ch4level'\n",
    "load_to_datapane(filename)"
   ]
  },
  {
   "cell_type": "code",
   "execution_count": null,
   "id": "d52a8b50",
   "metadata": {},
   "outputs": [],
   "source": []
  }
 ],
 "metadata": {
  "kernelspec": {
   "display_name": "Python 3",
   "language": "python",
   "name": "python3"
  },
  "language_info": {
   "codemirror_mode": {
    "name": "ipython",
    "version": 3
   },
   "file_extension": ".py",
   "mimetype": "text/x-python",
   "name": "python",
   "nbconvert_exporter": "python",
   "pygments_lexer": "ipython3",
   "version": "3.8.13"
  }
 },
 "nbformat": 4,
 "nbformat_minor": 5
}
